{
 "cells": [
  {
   "cell_type": "markdown",
   "metadata": {},
   "source": [
    "## Assignment 4\n",
    "#### Gelana Tostaeva"
   ]
  },
  {
   "cell_type": "code",
   "execution_count": 1,
   "metadata": {},
   "outputs": [],
   "source": [
    "#Loading necessary libraries\n",
    "import numpy as np\n",
    "import scipy.stats as stats\n",
    "import matplotlib.pyplot as plt\n",
    "%matplotlib inline\n",
    "import seaborn as sns\n",
    "sns.set()"
   ]
  },
  {
   "cell_type": "code",
   "execution_count": 2,
   "metadata": {},
   "outputs": [],
   "source": [
    "#Getting the data from the table in the notebook provided\n",
    "controls = [15,18,10,39,29,10]\n",
    "successes = [9,11,4,21,12,0]"
   ]
  },
  {
   "cell_type": "markdown",
   "metadata": {},
   "source": [
    "For my test statistic, I chose the minimum success rate which I define to be the number of control successes per study divided by the total number of controls in the study. This test statistic ensures that the non-hierarchical model will not be able to yield the outlier success rate in the last study of $\\frac{0}{10}$ when passed to the Binomial likelihood of the given model."
   ]
  },
  {
   "cell_type": "code",
   "execution_count": 3,
   "metadata": {},
   "outputs": [],
   "source": [
    "#Creating a test statistic function based on the minimum success rate\n",
    "def test_stat(data):\n",
    "    success_rates = [data[i]/controls[i] for i in range(len(controls))]\n",
    "    return min(success_rates)\n",
    "real_stat = test_stat(successes)"
   ]
  },
  {
   "cell_type": "markdown",
   "metadata": {},
   "source": [
    "Based on the model description given, the posterior for the control group is given by the Beta distribution with $\\alpha=58$ and $\\beta=65$ parameters. The likelihood is a Binomial where $s$ is the probability of successes for the control group given our sampling from the Beta distribution."
   ]
  },
  {
   "cell_type": "code",
   "execution_count": 4,
   "metadata": {},
   "outputs": [],
   "source": [
    "#Drawing posterior samples from the beta distribution with the given parameters\n",
    "posterior_samples = stats.beta.rvs(a=58,b=65,size=1000)\n",
    "\n",
    "#Using the samples drawn to create replicated data\n",
    "replicated = np.array([[stats.binom.rvs(n, s) for n in controls] for s in posterior_samples])\n",
    "\n",
    "#Getting the test statistics for the replicated data\n",
    "test_stats = []\n",
    "for i in range(len(replicated)):\n",
    "    test_stats.append((test_stat(replicated[i])))"
   ]
  },
  {
   "cell_type": "markdown",
   "metadata": {},
   "source": [
    "Finally, to check the given model, we should see how unusual the real test statistic is compared to the test statistic distribution of the replicated samples. We verify this by computing the \"p-value\"; we get a value of 0.997 which means that the given model is a bad fit and suggests that the real control data are extremely atypical. This confirms that the non-hierarhical model does not explain the control group data well. "
   ]
  },
  {
   "cell_type": "code",
   "execution_count": 5,
   "metadata": {},
   "outputs": [
    {
     "data": {
      "text/plain": [
       "<matplotlib.lines.Line2D at 0x1a1e1b7ef0>"
      ]
     },
     "execution_count": 5,
     "metadata": {},
     "output_type": "execute_result"
    },
    {
     "data": {
      "image/png": "[encoded data removed]",
      "text/plain": [
       "<Figure size 720x432 with 1 Axes>"
      ]
     },
     "metadata": {
      "needs_background": "light"
     },
     "output_type": "display_data"
    }
   ],
   "source": [
    "#Plotting the distribution of the test statistic values on the replicated data indicating\n",
    "#the p-value for the model and test statistic on the real data\n",
    "\n",
    "plt.figure(figsize=(10, 6))\n",
    "plt.hist(test_stats, alpha=0.5, bins=15, density=True)\n",
    "plt.title('Test Statistic Distribution on Replicated Data with p-value of %.3f' % (\n",
    "    np.mean(np.array(test_stats) > real_stat)))\n",
    "plt.axvline(test_stat(successes), color='red')"
   ]
  },
  {
   "cell_type": "code",
   "execution_count": null,
   "metadata": {},
   "outputs": [],
   "source": []
  }
 ],
 "metadata": {
  "kernelspec": {
   "display_name": "Python 3",
   "language": "python",
   "name": "python3"
  },
  "language_info": {
   "codemirror_mode": {
    "name": "ipython",
    "version": 3
   },
   "file_extension": ".py",
   "mimetype": "text/x-python",
   "name": "python",
   "nbconvert_exporter": "python",
   "pygments_lexer": "ipython3",
   "version": "3.7.3"
  }
 },
 "nbformat": 4,
 "nbformat_minor": 2
}
